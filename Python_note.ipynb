{
 "cells": [
  {
   "cell_type": "markdown",
   "metadata": {},
   "source": [
    "# Python 面向对象"
   ]
  },
  {
   "cell_type": "markdown",
   "metadata": {},
   "source": [
    "## 成员属性的规范\n",
    "1. python 中并没有严格意义上的公有、私有、保护成员\n",
    "2. python 中定义的私有成员为“伪私有成员”，即IDE自动将我们指定的私有变量进行了重命名。"
   ]
  },
  {
   "cell_type": "code",
   "execution_count": 6,
   "metadata": {},
   "outputs": [
    {
     "name": "stdout",
     "output_type": "stream",
     "text": [
      "{'_Person__age': 18, '__age': 20}\n"
     ]
    }
   ],
   "source": [
    "class Person:\n",
    "    def __init__(self) :\n",
    "        self.__age = 18\n",
    "\n",
    "p1 = Person()\n",
    "# 这种方法定义的实例变量与类中的私有属性并不是同一个内容\n",
    "p1.__age = 20\n",
    "print(p1.__dict__)"
   ]
  },
  {
   "cell_type": "markdown",
   "metadata": {},
   "source": [
    "### 只读属性的书写规范\n",
    "1. 属性在设置时采用私有属性的方式\n",
    "2. 使用方法使得该属性只能“读”，不能“写”"
   ]
  },
  {
   "cell_type": "code",
   "execution_count": 10,
   "metadata": {},
   "outputs": [
    {
     "name": "stdout",
     "output_type": "stream",
     "text": [
      "18\n"
     ]
    }
   ],
   "source": [
    "class Person(object):\n",
    "    def __init__(self) -> None:\n",
    "        self.__age = 18\n",
    "\n",
    "    @ property\n",
    "    def age(self):\n",
    "        return self.__age\n",
    "\n",
    "p1 = Person()\n",
    "print(p1.age)\n",
    "\n",
    "# 此时__age 作为只读属性，不能进行写操作\n",
    "# p1.age = 20"
   ]
  },
  {
   "cell_type": "markdown",
   "metadata": {},
   "source": [
    "property 实际上可以关联多个操作"
   ]
  },
  {
   "cell_type": "code",
   "execution_count": 1,
   "metadata": {},
   "outputs": [
    {
     "name": "stdout",
     "output_type": "stream",
     "text": [
      "18\n",
      "20\n",
      "{'_Person__age': 20}\n"
     ]
    }
   ],
   "source": [
    "class Person(object):\n",
    "    def __init__(self) -> None:\n",
    "        self.__age = 18\n",
    "\n",
    "    @ property\n",
    "    def age(self):\n",
    "        return self.__age\n",
    "\n",
    "    # 通过property关联了写操作\n",
    "    @ age.setter\n",
    "    def age(self,value):\n",
    "        self.__age = value\n",
    "\n",
    "p1 = Person()\n",
    "print(p1.age)\n",
    "\n",
    "p1.age = 20\n",
    "print(p1.age)\n",
    "print(p1.__dict__)"
   ]
  },
  {
   "cell_type": "markdown",
   "metadata": {},
   "source": [
    "## 偏函数"
   ]
  },
  {
   "cell_type": "code",
   "execution_count": 5,
   "metadata": {},
   "outputs": [
    {
     "name": "stdout",
     "output_type": "stream",
     "text": [
      "钢笔的颜色是绿色\n",
      "钢笔的颜色是黄色\n"
     ]
    }
   ],
   "source": [
    "import functools\n",
    "\n",
    "def creatPen(t_color,t_type):\n",
    "    print(\"%s的颜色是%s\" % (t_type,t_color))\n",
    "\n",
    "creatPen('绿色',\"钢笔\")\n",
    "\n",
    "# 借助 functools 模块中的 partial 函数创建了一个新的偏函数\n",
    "# 针对我们修改较少的参数实现了减少输入参数的效果\n",
    "pen_gangbi = functools.partial(creatPen,t_type = \"钢笔\")\n",
    "\n",
    "pen_gangbi(\"黄色\")"
   ]
  },
  {
   "cell_type": "markdown",
   "metadata": {},
   "source": [
    "### 类中偏函数的可用场景 __call__"
   ]
  },
  {
   "cell_type": "code",
   "execution_count": 6,
   "metadata": {},
   "outputs": [
    {
     "name": "stdout",
     "output_type": "stream",
     "text": [
      "钢笔的颜色是黄色\n"
     ]
    }
   ],
   "source": [
    "class PenFactory(object):\n",
    "    def __init__(self,t_type) -> None:\n",
    "        self.t_type = t_type\n",
    "\n",
    "    def __call__(self, t_color) :\n",
    "        print(\"%s的颜色是%s\" % (self.t_type,t_color))\n",
    "\n",
    "gangbi = PenFactory(\"钢笔\")\n",
    "gangbi(\"黄色\")"
   ]
  },
  {
   "cell_type": "markdown",
   "metadata": {},
   "source": [
    "## 类中比较操作"
   ]
  },
  {
   "cell_type": "markdown",
   "metadata": {},
   "source": [
    "1.可以通过 functools 包进行逻辑补全   \n",
    "2.不需要对于 == != < <= > >= 六种逻辑进行全部的填写   \n",
    "3.即可以通过任意两种比较逻辑，补全全部六种逻辑"
   ]
  },
  {
   "cell_type": "code",
   "execution_count": 22,
   "metadata": {},
   "outputs": [
    {
     "name": "stdout",
     "output_type": "stream",
     "text": [
      "True\n",
      "False\n",
      "True\n",
      "False\n",
      "True\n"
     ]
    }
   ],
   "source": [
    "import functools\n",
    "\n",
    "@functools.total_ordering\n",
    "class Person(object):\n",
    "    def __init__(self,age):\n",
    "        self.age = age\n",
    "\n",
    "    # ==\n",
    "    def __eq__(self, other) -> bool:\n",
    "        return self.age == other.age\n",
    "\n",
    "    # # <\n",
    "    # def __lt__(self,other):\n",
    "    #     return self.age == other.age\n",
    "\n",
    "    # >\n",
    "    def __gt__(self,other):\n",
    "        return self.age == other.age\n",
    "\n",
    "p1 = Person(18)\n",
    "p2 = Person(13)\n",
    "\n",
    "print(p1<p2)\n",
    "print(p1>p2)\n",
    "print(p1<=p2)\n",
    "print(p1>=p2)\n",
    "print(p1!=p2)"
   ]
  }
 ],
 "metadata": {
  "kernelspec": {
   "display_name": "Python 3.8.0 64-bit",
   "language": "python",
   "name": "python3"
  },
  "language_info": {
   "codemirror_mode": {
    "name": "ipython",
    "version": 3
   },
   "file_extension": ".py",
   "mimetype": "text/x-python",
   "name": "python",
   "nbconvert_exporter": "python",
   "pygments_lexer": "ipython3",
   "version": "3.8.0"
  },
  "orig_nbformat": 4,
  "vscode": {
   "interpreter": {
    "hash": "4fbdbc13bbf6325566c22e8d9d8ff8f2d480c97b4af4b6ab47cb01e2584972b7"
   }
  }
 },
 "nbformat": 4,
 "nbformat_minor": 2
}
