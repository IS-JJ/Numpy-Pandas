{
 "cells": [
  {
   "cell_type": "code",
   "execution_count": 2,
   "metadata": {},
   "outputs": [],
   "source": [
    "import numpy as np\n",
    "import pandas as pd"
   ]
  },
  {
   "cell_type": "markdown",
   "metadata": {},
   "source": [
    "## pandas和numpy的联合使用"
   ]
  },
  {
   "cell_type": "code",
   "execution_count": 3,
   "metadata": {},
   "outputs": [
    {
     "name": "stdout",
     "output_type": "stream",
     "text": [
      "0    1.0\n",
      "1    2.0\n",
      "2    3.0\n",
      "3    NaN\n",
      "4    5.0\n",
      "dtype: float64\n"
     ]
    }
   ],
   "source": [
    "# 创建pandas序列\n",
    "s = pd.Series([1,2,3,np.nan,5])\n",
    "print(s)"
   ]
  },
  {
   "cell_type": "code",
   "execution_count": 4,
   "metadata": {},
   "outputs": [
    {
     "name": "stdout",
     "output_type": "stream",
     "text": [
      "DatetimeIndex(['2022-10-30', '2022-10-31', '2022-11-01', '2022-11-02',\n",
      "               '2022-11-03', '2022-11-04'],\n",
      "              dtype='datetime64[ns]', freq='D')\n"
     ]
    }
   ],
   "source": [
    "# 生成时间序列\n",
    "dates = pd.date_range('20221030',periods=6)\n",
    "print(dates)"
   ]
  },
  {
   "cell_type": "code",
   "execution_count": 5,
   "metadata": {},
   "outputs": [
    {
     "name": "stdout",
     "output_type": "stream",
     "text": [
      "                   a         b         c         d\n",
      "2022-10-30 -0.592587 -0.122148 -2.036903  0.815509\n",
      "2022-10-31  0.804913 -0.974341 -0.487314  0.259545\n",
      "2022-11-01 -0.105884  0.958706  0.445554 -0.293709\n",
      "2022-11-02 -0.465545 -0.816848 -0.330880  0.068494\n",
      "2022-11-03 -0.201405  1.174885  0.380253  1.716457\n",
      "2022-11-04  0.687586 -0.377732  1.104268 -0.672503\n"
     ]
    }
   ],
   "source": [
    "# 创建 pandas 序列\n",
    "df = pd.DataFrame(np.random.randn(6,4),index=dates,columns=['a','b','c','d'])\n",
    "print(df)"
   ]
  },
  {
   "cell_type": "code",
   "execution_count": 6,
   "metadata": {},
   "outputs": [
    {
     "name": "stdout",
     "output_type": "stream",
     "text": [
      "                   d         c         b         a\n",
      "2022-10-30  0.815509 -2.036903 -0.122148 -0.592587\n",
      "2022-10-31  0.259545 -0.487314 -0.974341  0.804913\n",
      "2022-11-01 -0.293709  0.445554  0.958706 -0.105884\n",
      "2022-11-02  0.068494 -0.330880 -0.816848 -0.465545\n",
      "2022-11-03  1.716457  0.380253  1.174885 -0.201405\n",
      "2022-11-04 -0.672503  1.104268 -0.377732  0.687586\n",
      "\n",
      "                    a         b         c         d\n",
      "2022-11-04  0.687586 -0.377732  1.104268 -0.672503\n",
      "2022-11-03 -0.201405  1.174885  0.380253  1.716457\n",
      "2022-11-02 -0.465545 -0.816848 -0.330880  0.068494\n",
      "2022-11-01 -0.105884  0.958706  0.445554 -0.293709\n",
      "2022-10-31  0.804913 -0.974341 -0.487314  0.259545\n",
      "2022-10-30 -0.592587 -0.122148 -2.036903  0.815509\n"
     ]
    }
   ],
   "source": [
    "# 按照序列进行排序\n",
    "df1 = df.sort_index(axis = 1,ascending=False)   # 按列序号\n",
    "print(df1)\n",
    "\n",
    "df2 = df.sort_index(axis = 0,ascending=False)   # 按行序号\n",
    "print('\\n',df2)"
   ]
  },
  {
   "cell_type": "code",
   "execution_count": 7,
   "metadata": {},
   "outputs": [
    {
     "name": "stdout",
     "output_type": "stream",
     "text": [
      "                   a         b         c         d\n",
      "2022-10-30 -0.592587 -0.122148 -2.036903  0.815509\n",
      "2022-11-02 -0.465545 -0.816848 -0.330880  0.068494\n",
      "2022-11-03 -0.201405  1.174885  0.380253  1.716457\n",
      "2022-11-01 -0.105884  0.958706  0.445554 -0.293709\n",
      "2022-11-04  0.687586 -0.377732  1.104268 -0.672503\n",
      "2022-10-31  0.804913 -0.974341 -0.487314  0.259545\n"
     ]
    }
   ],
   "source": [
    "# 对值进行排序\n",
    "df3 = df.sort_values(by='a')\n",
    "print(df3)"
   ]
  },
  {
   "cell_type": "markdown",
   "metadata": {},
   "source": [
    "## 选择数据"
   ]
  },
  {
   "cell_type": "code",
   "execution_count": 9,
   "metadata": {},
   "outputs": [
    {
     "name": "stdout",
     "output_type": "stream",
     "text": [
      "                   a         b         c         d\n",
      "2022-10-30 -0.592587 -0.122148 -2.036903  0.815509\n",
      "2022-10-31  0.804913 -0.974341 -0.487314  0.259545\n",
      "2022-11-01 -0.105884  0.958706  0.445554 -0.293709\n",
      "2022-11-02 -0.465545 -0.816848 -0.330880  0.068494\n",
      "2022-11-03 -0.201405  1.174885  0.380253  1.716457\n",
      "2022-11-04  0.687586 -0.377732  1.104268 -0.672503\n",
      "\n",
      "选取某一列：\n",
      "2022-10-30   -0.592587\n",
      "2022-10-31    0.804913\n",
      "2022-11-01   -0.105884\n",
      "2022-11-02   -0.465545\n",
      "2022-11-03   -0.201405\n",
      "2022-11-04    0.687586\n",
      "Freq: D, Name: a, dtype: float64 \n",
      "=== 两种形式等价 ===\n",
      " 2022-10-30   -0.592587\n",
      "2022-10-31    0.804913\n",
      "2022-11-01   -0.105884\n",
      "2022-11-02   -0.465545\n",
      "2022-11-03   -0.201405\n",
      "2022-11-04    0.687586\n",
      "Freq: D, Name: a, dtype: float64\n"
     ]
    }
   ],
   "source": [
    "print(df)\n",
    "print('\\n选取某一列：')\n",
    "print(df.a,'\\n=== 两种形式等价 ===\\n',df['a'])"
   ]
  },
  {
   "cell_type": "code",
   "execution_count": 15,
   "metadata": {},
   "outputs": [
    {
     "name": "stdout",
     "output_type": "stream",
     "text": [
      "a   -0.592587\n",
      "b   -0.122148\n",
      "c   -2.036903\n",
      "d    0.815509\n",
      "Name: 2022-10-30 00:00:00, dtype: float64\n",
      "                   a         b\n",
      "2022-10-30 -0.592587 -0.122148\n",
      "2022-10-31  0.804913 -0.974341\n",
      "2022-11-01 -0.105884  0.958706\n",
      "2022-11-02 -0.465545 -0.816848\n",
      "2022-11-03 -0.201405  1.174885\n",
      "2022-11-04  0.687586 -0.377732\n",
      "                   a         b\n",
      "2022-10-30 -0.592587 -0.122148\n",
      "2022-10-31  0.804913 -0.974341\n"
     ]
    }
   ],
   "source": [
    "# select by label ： loc\n",
    "print(df.loc['20221030'])   # 选取某一行\n",
    "print(df.loc[:,['a','b']])  # 所有行的 ‘a’ ‘b’ 两列\n",
    "print(df.loc[['20221030','20221031'],['a','b']])    # 需要某行的某列"
   ]
  },
  {
   "cell_type": "code",
   "execution_count": 28,
   "metadata": {},
   "outputs": [
    {
     "name": "stdout",
     "output_type": "stream",
     "text": [
      "\n",
      " -0.5925870426928345\n",
      "                   a         b         c         d\n",
      "2022-10-31  0.804913 -0.974341 -0.487314  0.259545\n"
     ]
    }
   ],
   "source": [
    "# select by position ： iloc\n",
    "print('\\n',df.iloc[0,0])    # 某个元素\n",
    "print(df.iloc[1:2,0:4])     # 前包后不含 【1：2），【0：4）"
   ]
  },
  {
   "cell_type": "code",
   "execution_count": 36,
   "metadata": {},
   "outputs": [
    {
     "name": "stdout",
     "output_type": "stream",
     "text": [
      "                   a         b         c         d\n",
      "2022-10-31  0.804913 -0.974341 -0.487314  0.259545\n",
      "2022-11-04  0.687586 -0.377732  1.104268 -0.672503\n"
     ]
    }
   ],
   "source": [
    "# Boolean indexing\n",
    "print(df[df.a>0])"
   ]
  },
  {
   "cell_type": "markdown",
   "metadata": {},
   "source": [
    "## Pandas 赋值"
   ]
  },
  {
   "cell_type": "code",
   "execution_count": 22,
   "metadata": {},
   "outputs": [
    {
     "name": "stdout",
     "output_type": "stream",
     "text": [
      "             a   b   c   d\n",
      "2022-11-01   0   1   2   3\n",
      "2022-11-02   4   5   6   7\n",
      "2022-11-03   8   9  10  11\n",
      "2022-11-04  12  13  14  15\n",
      "2022-11-05  16  17  18  19\n",
      "2022-11-06  20  21  22  23\n"
     ]
    }
   ],
   "source": [
    "import numpy as np\n",
    "import pandas as pd\n",
    "\n",
    "dates = pd.date_range('20221101',periods=6)\n",
    "df = pd.DataFrame(np.arange(24).reshape(6,4),index=dates,columns=['a','b','c','d'])\n",
    "print(df)"
   ]
  },
  {
   "cell_type": "code",
   "execution_count": 24,
   "metadata": {},
   "outputs": [
    {
     "name": "stdout",
     "output_type": "stream",
     "text": [
      "             a   b   c   d   e  f\n",
      "2022-11-01   0   1   2   3 NaN  1\n",
      "2022-11-02   4  24   6   7 NaN  2\n",
      "2022-11-03   8   9  36  11 NaN  3\n",
      "2022-11-04  11  13  14  15 NaN  4\n",
      "2022-11-05  11  17  18  19 NaN  5\n",
      "2022-11-06  11  21  22  23 NaN  6\n"
     ]
    },
    {
     "name": "stderr",
     "output_type": "stream",
     "text": [
      "C:\\Users\\20361\\AppData\\Local\\Temp\\ipykernel_8896\\1907526921.py:4: SettingWithCopyWarning: \n",
      "A value is trying to be set on a copy of a slice from a DataFrame\n",
      "\n",
      "See the caveats in the documentation: https://pandas.pydata.org/pandas-docs/stable/user_guide/indexing.html#returning-a-view-versus-a-copy\n",
      "  df.a[df.a>10] = 11\n"
     ]
    }
   ],
   "source": [
    "# 修改值\n",
    "df.iloc[2,2] = 36\n",
    "df.loc['20221102','b'] = 24 \n",
    "df.a[df.a>10] = 11\n",
    "df['e'] = np.nan                                # 添加空列\n",
    "df['f'] = pd.Series([1,2,3,4,5,6],index=dates)  # 添加含有值的列，利用 Series\n",
    "\n",
    "print(df)"
   ]
  },
  {
   "cell_type": "markdown",
   "metadata": {},
   "source": [
    "## 处理丢失数据"
   ]
  },
  {
   "cell_type": "code",
   "execution_count": 33,
   "metadata": {},
   "outputs": [
    {
     "name": "stdout",
     "output_type": "stream",
     "text": [
      "             a     b     c   d\n",
      "2022-11-01   0   NaN   2.0   3\n",
      "2022-11-02   4   5.0   NaN   7\n",
      "2022-11-03   8   9.0  10.0  11\n",
      "2022-11-04  12  13.0  14.0  15\n",
      "2022-11-05  16  17.0  18.0  19\n",
      "2022-11-06  20  21.0  22.0  23\n"
     ]
    }
   ],
   "source": [
    "# 对于 含有 NAN 的数据进行处理\n",
    "dates = pd.date_range('20221101',periods=6)\n",
    "df = pd.DataFrame(np.arange(24).reshape(6,4),index=dates,columns=['a','b','c','d'])\n",
    "\n",
    "df.iloc[0,1] = np.nan\n",
    "df.iloc[1,2] = np.nan\n",
    "print(df)"
   ]
  },
  {
   "cell_type": "code",
   "execution_count": 32,
   "metadata": {},
   "outputs": [
    {
     "name": "stdout",
     "output_type": "stream",
     "text": [
      "             a     b     c   d\n",
      "2022-11-01   0   NaN   2.0   3\n",
      "2022-11-02   4   5.0   NaN   7\n",
      "2022-11-03   8   9.0  10.0  11\n",
      "2022-11-04  12  13.0  14.0  15\n",
      "2022-11-05  16  17.0  18.0  19\n",
      "2022-11-06  20  21.0  22.0  23\n"
     ]
    }
   ],
   "source": [
    "# 清除含 NAN 的情况\n",
    "# axis = 0/1 (行/列)\n",
    "# how = {'any','all'} = {‘任意含有’，‘全部都为 NAN’}\n",
    "print(df.dropna(axis = 0,how='all'))"
   ]
  },
  {
   "cell_type": "code",
   "execution_count": 35,
   "metadata": {},
   "outputs": [
    {
     "name": "stdout",
     "output_type": "stream",
     "text": [
      "             a       b       c   d\n",
      "2022-11-01   0  2333.0     2.0   3\n",
      "2022-11-02   4     5.0  2333.0   7\n",
      "2022-11-03   8     9.0    10.0  11\n",
      "2022-11-04  12    13.0    14.0  15\n",
      "2022-11-05  16    17.0    18.0  19\n",
      "2022-11-06  20    21.0    22.0  23\n"
     ]
    }
   ],
   "source": [
    "# 对 NAN 进行替换\n",
    "print(df.fillna(value=2333))"
   ]
  },
  {
   "cell_type": "code",
   "execution_count": 37,
   "metadata": {},
   "outputs": [
    {
     "name": "stdout",
     "output_type": "stream",
     "text": [
      "                a      b      c      d\n",
      "2022-11-01  False   True  False  False\n",
      "2022-11-02  False  False   True  False\n",
      "2022-11-03  False  False  False  False\n",
      "2022-11-04  False  False  False  False\n",
      "2022-11-05  False  False  False  False\n",
      "2022-11-06  False  False  False  False\n"
     ]
    }
   ],
   "source": [
    "# 检查是 NAN 的元素\n",
    "print(df.isnull())"
   ]
  },
  {
   "cell_type": "code",
   "execution_count": 38,
   "metadata": {},
   "outputs": [
    {
     "name": "stdout",
     "output_type": "stream",
     "text": [
      "True\n"
     ]
    }
   ],
   "source": [
    "# 检查整个 pd 是否有NAN的元素\n",
    "print(np.any(df.isnull()) == True)"
   ]
  }
 ],
 "metadata": {
  "kernelspec": {
   "display_name": "Python 3.8.0 64-bit",
   "language": "python",
   "name": "python3"
  },
  "language_info": {
   "codemirror_mode": {
    "name": "ipython",
    "version": 3
   },
   "file_extension": ".py",
   "mimetype": "text/x-python",
   "name": "python",
   "nbconvert_exporter": "python",
   "pygments_lexer": "ipython3",
   "version": "3.8.0"
  },
  "orig_nbformat": 4,
  "vscode": {
   "interpreter": {
    "hash": "4fbdbc13bbf6325566c22e8d9d8ff8f2d480c97b4af4b6ab47cb01e2584972b7"
   }
  }
 },
 "nbformat": 4,
 "nbformat_minor": 2
}
