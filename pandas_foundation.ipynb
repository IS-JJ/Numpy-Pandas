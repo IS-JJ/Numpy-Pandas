{
 "cells": [
  {
   "cell_type": "code",
   "execution_count": 2,
   "metadata": {},
   "outputs": [],
   "source": [
    "import numpy as np\n",
    "import pandas as pd"
   ]
  },
  {
   "cell_type": "markdown",
   "metadata": {},
   "source": [
    "## pandas和numpy的联合使用"
   ]
  },
  {
   "cell_type": "code",
   "execution_count": 3,
   "metadata": {},
   "outputs": [
    {
     "name": "stdout",
     "output_type": "stream",
     "text": [
      "0    1.0\n",
      "1    2.0\n",
      "2    3.0\n",
      "3    NaN\n",
      "4    5.0\n",
      "dtype: float64\n"
     ]
    }
   ],
   "source": [
    "# 创建pandas序列\n",
    "s = pd.Series([1,2,3,np.nan,5])\n",
    "print(s)"
   ]
  },
  {
   "cell_type": "code",
   "execution_count": 9,
   "metadata": {},
   "outputs": [
    {
     "name": "stdout",
     "output_type": "stream",
     "text": [
      "DatetimeIndex(['2022-10-30', '2022-10-31', '2022-11-01', '2022-11-02',\n",
      "               '2022-11-03', '2022-11-04'],\n",
      "              dtype='datetime64[ns]', freq='D')\n"
     ]
    }
   ],
   "source": [
    "# 生成时间序列\n",
    "dates = pd.date_range('20221030',periods=6)\n",
    "print(dates)"
   ]
  },
  {
   "cell_type": "code",
   "execution_count": 14,
   "metadata": {},
   "outputs": [
    {
     "name": "stdout",
     "output_type": "stream",
     "text": [
      "                   a         b         c         d\n",
      "2022-10-30  0.042742 -0.469878  0.334928 -1.567046\n",
      "2022-10-31 -1.356125  0.601861 -1.262356  2.402717\n",
      "2022-11-01 -0.682761 -1.841708  0.550972 -0.725210\n",
      "2022-11-02  0.603121  0.701567  1.778105  0.226914\n",
      "2022-11-03 -0.425269  1.072798 -0.166519 -0.159750\n",
      "2022-11-04 -1.319981  1.506457  0.008569  1.013772\n"
     ]
    }
   ],
   "source": [
    "# 创建 pandas 序列\n",
    "df = pd.DataFrame(np.random.randn(6,4),index=dates,columns=['a','b','c','d'])\n",
    "print(df)"
   ]
  },
  {
   "cell_type": "code",
   "execution_count": 18,
   "metadata": {},
   "outputs": [
    {
     "name": "stdout",
     "output_type": "stream",
     "text": [
      "                   d         c         b         a\n",
      "2022-10-30 -1.567046  0.334928 -0.469878  0.042742\n",
      "2022-10-31  2.402717 -1.262356  0.601861 -1.356125\n",
      "2022-11-01 -0.725210  0.550972 -1.841708 -0.682761\n",
      "2022-11-02  0.226914  1.778105  0.701567  0.603121\n",
      "2022-11-03 -0.159750 -0.166519  1.072798 -0.425269\n",
      "2022-11-04  1.013772  0.008569  1.506457 -1.319981\n",
      "\n",
      "                    a         b         c         d\n",
      "2022-11-04 -1.319981  1.506457  0.008569  1.013772\n",
      "2022-11-03 -0.425269  1.072798 -0.166519 -0.159750\n",
      "2022-11-02  0.603121  0.701567  1.778105  0.226914\n",
      "2022-11-01 -0.682761 -1.841708  0.550972 -0.725210\n",
      "2022-10-31 -1.356125  0.601861 -1.262356  2.402717\n",
      "2022-10-30  0.042742 -0.469878  0.334928 -1.567046\n"
     ]
    }
   ],
   "source": [
    "# 按照序列进行排序\n",
    "df1 = df.sort_index(axis = 1,ascending=False)   # 按列序号\n",
    "print(df1)\n",
    "\n",
    "df2 = df.sort_index(axis = 0,ascending=False)   # 按行序号\n",
    "print('\\n',df2)"
   ]
  },
  {
   "cell_type": "code",
   "execution_count": 24,
   "metadata": {},
   "outputs": [
    {
     "name": "stdout",
     "output_type": "stream",
     "text": [
      "                   a         b         c         d\n",
      "2022-10-31 -1.356125  0.601861 -1.262356  2.402717\n",
      "2022-11-04 -1.319981  1.506457  0.008569  1.013772\n",
      "2022-11-01 -0.682761 -1.841708  0.550972 -0.725210\n",
      "2022-11-03 -0.425269  1.072798 -0.166519 -0.159750\n",
      "2022-10-30  0.042742 -0.469878  0.334928 -1.567046\n",
      "2022-11-02  0.603121  0.701567  1.778105  0.226914\n"
     ]
    }
   ],
   "source": [
    "# 对值进行排序\n",
    "df3 = df.sort_values(by='a')\n",
    "print(df3)"
   ]
  },
  {
   "cell_type": "markdown",
   "metadata": {},
   "source": [
    "## 选择数据"
   ]
  },
  {
   "cell_type": "code",
   "execution_count": 29,
   "metadata": {},
   "outputs": [
    {
     "name": "stdout",
     "output_type": "stream",
     "text": [
      "                   a         b         c         d\n",
      "2022-10-30  0.042742 -0.469878  0.334928 -1.567046\n",
      "2022-10-31 -1.356125  0.601861 -1.262356  2.402717\n",
      "2022-11-01 -0.682761 -1.841708  0.550972 -0.725210\n",
      "2022-11-02  0.603121  0.701567  1.778105  0.226914\n",
      "2022-11-03 -0.425269  1.072798 -0.166519 -0.159750\n",
      "2022-11-04 -1.319981  1.506457  0.008569  1.013772\n",
      "\n",
      "选取某一列：\n",
      "2022-10-30    0.042742\n",
      "2022-10-31   -1.356125\n",
      "2022-11-01   -0.682761\n",
      "2022-11-02    0.603121\n",
      "2022-11-03   -0.425269\n",
      "2022-11-04   -1.319981\n",
      "Freq: D, Name: a, dtype: float64\n"
     ]
    }
   ],
   "source": [
    "print(df)\n",
    "print('\\n选取某一列：')\n",
    "print(df.a)"
   ]
  },
  {
   "cell_type": "code",
   "execution_count": 30,
   "metadata": {},
   "outputs": [
    {
     "data": {
      "text/plain": [
       "899"
      ]
     },
     "execution_count": 30,
     "metadata": {},
     "output_type": "execute_result"
    }
   ],
   "source": []
  }
 ],
 "metadata": {
  "kernelspec": {
   "display_name": "Python 3.11.0 64-bit",
   "language": "python",
   "name": "python3"
  },
  "language_info": {
   "codemirror_mode": {
    "name": "ipython",
    "version": 3
   },
   "file_extension": ".py",
   "mimetype": "text/x-python",
   "name": "python",
   "nbconvert_exporter": "python",
   "pygments_lexer": "ipython3",
   "version": "3.11.0"
  },
  "orig_nbformat": 4,
  "vscode": {
   "interpreter": {
    "hash": "5365cd7093078b220e6af5428331b2c1792eb22f02103ec7dc775411ce4e3439"
   }
  }
 },
 "nbformat": 4,
 "nbformat_minor": 2
}
