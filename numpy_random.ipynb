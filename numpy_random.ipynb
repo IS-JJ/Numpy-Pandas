{
 "cells": [
  {
   "cell_type": "markdown",
   "metadata": {},
   "source": [
    "# Numpy 中一些函数的用法"
   ]
  },
  {
   "cell_type": "markdown",
   "metadata": {},
   "source": [
    "### Numpy.random 模块\n",
    "总的来说分为四种模块，四个功能\n",
    "1. 简单随机数： 产生简单的随机数据，可以是任何维度 \n",
    "2. 排列：将所给对象随机排列 \n",
    "3. 分布：产生指定分布的数据，如高斯分布等 \n",
    "4. 生成器：种随机数种子，根据同一种子产生的随机数是相同的 "
   ]
  },
  {
   "cell_type": "markdown",
   "metadata": {},
   "source": [
    "#### 1.生成器"
   ]
  },
  {
   "cell_type": "markdown",
   "metadata": {},
   "source": [
    "![jupyter](./image/random_seed.png)"
   ]
  },
  {
   "cell_type": "markdown",
   "metadata": {},
   "source": [
    "#### 2.简单随机数"
   ]
  },
  {
   "cell_type": "markdown",
   "metadata": {},
   "source": [
    "![jupyter](./image/random_randn.jpg)"
   ]
  },
  {
   "cell_type": "markdown",
   "metadata": {},
   "source": [
    "#### 3.分布"
   ]
  },
  {
   "cell_type": "markdown",
   "metadata": {},
   "source": [
    "![jupyter](./image/random_beta.jpg)"
   ]
  },
  {
   "cell_type": "markdown",
   "metadata": {},
   "source": [
    "#### 4.排列"
   ]
  },
  {
   "cell_type": "markdown",
   "metadata": {},
   "source": [
    "![jupyter](./image/random_shuffle.jpg)"
   ]
  },
  {
   "cell_type": "code",
   "execution_count": 3,
   "metadata": {},
   "outputs": [
    {
     "name": "stdout",
     "output_type": "stream",
     "text": [
      "[[8 1 9 3]\n",
      " [7 8 8 5]\n",
      " [7 6 3 7]]\n",
      "\n",
      " [[7 8 8 5]\n",
      " [8 1 9 3]\n",
      " [7 6 3 7]]\n"
     ]
    }
   ],
   "source": [
    "# 正态分布\n",
    "import numpy as np\n",
    "rand_data = np.random.randint(1,10,(3,4))\n",
    "print(rand_data)\n",
    "np.random.shuffle(rand_data)\n",
    "print('\\n',rand_data)"
   ]
  }
 ],
 "metadata": {
  "kernelspec": {
   "display_name": "Python 3.8.0 64-bit",
   "language": "python",
   "name": "python3"
  },
  "language_info": {
   "codemirror_mode": {
    "name": "ipython",
    "version": 3
   },
   "file_extension": ".py",
   "mimetype": "text/x-python",
   "name": "python",
   "nbconvert_exporter": "python",
   "pygments_lexer": "ipython3",
   "version": "3.8.0"
  },
  "orig_nbformat": 4,
  "vscode": {
   "interpreter": {
    "hash": "4fbdbc13bbf6325566c22e8d9d8ff8f2d480c97b4af4b6ab47cb01e2584972b7"
   }
  }
 },
 "nbformat": 4,
 "nbformat_minor": 2
}
