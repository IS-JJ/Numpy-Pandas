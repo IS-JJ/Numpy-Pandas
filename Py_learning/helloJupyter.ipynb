{
 "cells": [
  {
   "cell_type": "code",
   "execution_count": 2,
   "metadata": {},
   "outputs": [],
   "source": [
    "a = 12\n",
    "b = 212"
   ]
  },
  {
   "cell_type": "code",
   "execution_count": 3,
   "metadata": {},
   "outputs": [],
   "source": [
    "music=[\"song1.mp3\",\"song2.mp3\",\"song3.mp3\",\"song4.mp3\",\"song5.mp3\"]\n",
    "n = len(music)"
   ]
  }
 ],
 "metadata": {
  "kernelspec": {
   "display_name": "Python 3.8.0 ('venv': venv)",
   "language": "python",
   "name": "python3"
  },
  "language_info": {
   "codemirror_mode": {
    "name": "ipython",
    "version": 3
   },
   "file_extension": ".py",
   "mimetype": "text/x-python",
   "name": "python",
   "nbconvert_exporter": "python",
   "pygments_lexer": "ipython3",
   "version": "3.8.0"
  },
  "orig_nbformat": 4,
  "vscode": {
   "interpreter": {
    "hash": "9976d7b70bdc41699e4f47f1a2b6ee7c8e52e75e8ad47c656166ca9cc5dda026"
   }
  }
 },
 "nbformat": 4,
 "nbformat_minor": 2
}
