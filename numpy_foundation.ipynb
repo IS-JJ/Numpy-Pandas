{
 "cells": [
  {
   "cell_type": "markdown",
   "metadata": {},
   "source": [
    "## numpy基本属性"
   ]
  },
  {
   "cell_type": "code",
   "execution_count": 2,
   "metadata": {},
   "outputs": [
    {
     "name": "stdout",
     "output_type": "stream",
     "text": [
      "arr:\n",
      " [[1 2 2]\n",
      " [2 3 4]] \n",
      "\n",
      "dtype: int32 \n",
      "\n",
      "all zeros:\n",
      " [[0. 0.]\n",
      " [0. 0.]] \n",
      "\n",
      "all one:\n",
      " [[1 1 1]\n",
      " [1 1 1]]\n",
      "\n",
      "empty:\n",
      " [[8.96030866e-312 8.96030863e-312 8.96030866e-312]\n",
      " [8.96030866e-312 8.96030866e-312 8.96030866e-312]]\n",
      "\n",
      "order:\n",
      " [[2 4]\n",
      " [6 8]]\n",
      "\n",
      "inspace: [ 1.    3.25  5.5   7.75 10.  ]\n"
     ]
    }
   ],
   "source": [
    "from tkinter import N\n",
    "import numpy as np\n",
    "# 创建矩阵\n",
    "arr = np.array([[1,2,2],\n",
    "                [2,3,4]])\n",
    "print('arr:\\n',arr,'\\n')\n",
    "\n",
    "# 创建矩阵时可以自己定义数据类型\n",
    "arr1 = np.array([[1,2,2],\n",
    "                [2,3,4]],dtype=np.int32)\n",
    "print('dtype:',arr1.dtype,'\\n')   \n",
    "\n",
    "# 全零矩阵\n",
    "arr2 = np.zeros((2,2))\n",
    "print('all zeros:\\n',arr2,'\\n')\n",
    "# 全一矩阵\n",
    "arr3 = np.ones((2,3),dtype=np.int32)\n",
    "print('all one:\\n',arr3)\n",
    "# 空矩阵\n",
    "arr4 = np.empty((2,3))\n",
    "print('\\nempty:\\n',arr4)\n",
    "# 有序数列\n",
    "arr5 = np.arange(2,10,2).reshape((2,2))\n",
    "print('\\norder:\\n',arr5)\n",
    "# 给定区间和数量\n",
    "arr6 = np.linspace(1,10,5)\n",
    "print('\\ninspace:',arr6)"
   ]
  },
  {
   "cell_type": "code",
   "execution_count": 3,
   "metadata": {},
   "outputs": [
    {
     "name": "stdout",
     "output_type": "stream",
     "text": [
      "number of dim:  2\n",
      "shape:  (2, 3)\n",
      "size:  6\n"
     ]
    }
   ],
   "source": [
    "# 矩阵的维度\n",
    "print('number of dim: ',arr.ndim)\n",
    "# 矩阵的形状\n",
    "print('shape: ',arr.shape)\n",
    "# 矩阵的元素个数\n",
    "print('size: ',arr.size)"
   ]
  },
  {
   "cell_type": "markdown",
   "metadata": {},
   "source": [
    "## 矩阵运算"
   ]
  },
  {
   "cell_type": "code",
   "execution_count": 4,
   "metadata": {},
   "outputs": [
    {
     "name": "stdout",
     "output_type": "stream",
     "text": [
      "Add: [ 1  4  7 10]\n",
      "Subtract: [ 1  0 -1 -2]\n"
     ]
    }
   ],
   "source": [
    "a = np.array([1,2,3,4])\n",
    "b = np.array([0,2,4,6])\n",
    "\n",
    "# 矩阵相加\n",
    "print('Add:',a+b)\n",
    "# 矩阵相减\n",
    "print('Subtract:',a-b)"
   ]
  },
  {
   "cell_type": "code",
   "execution_count": 5,
   "metadata": {},
   "outputs": [
    {
     "name": "stdout",
     "output_type": "stream",
     "text": [
      "power: [ 1  4  9 16]\n",
      "\n",
      "multiply one by one:\n",
      " [[ 0  4]\n",
      " [12 24]]\n",
      "\n",
      "multiply matric by matric:\n",
      " [[ 8 14]\n",
      " [16 30]]\n"
     ]
    }
   ],
   "source": [
    "# 乘方\n",
    "print('power:',a**2)\n",
    "\n",
    "# 矩阵元素相乘\n",
    "a1 = a.reshape((2,2))\n",
    "b1 = b.reshape((2,2))\n",
    "c = a1*b1\n",
    "print('\\nmultiply one by one:\\n',c)\n",
    "\n",
    "# 矩阵相乘\n",
    "c_dot = np.dot(a1,b1)\n",
    "print('\\nmultiply matric by matric:\\n',c_dot)"
   ]
  },
  {
   "cell_type": "code",
   "execution_count": 6,
   "metadata": {},
   "outputs": [
    {
     "name": "stdout",
     "output_type": "stream",
     "text": [
      "[[0.04874953 0.69317736 0.69172806]\n",
      " [0.68420425 0.41983663 0.74675757]]\n",
      "\n",
      "sum all: [1.43365495 1.85079845]\n",
      "\n",
      "max of Matric: [0.68420425 0.69317736 0.74675757]\n",
      "\n",
      "min of Matric: 0.04874952621219597\n"
     ]
    }
   ],
   "source": [
    "# 随机生成0~1之间元素的矩阵\n",
    "aa = np.random.random((2,3))\n",
    "print(aa)\n",
    "\n",
    "# axis = 1,  按行\n",
    "# axis = 0,  按列\n",
    "# 矩阵中所有元素求和\n",
    "print('\\nsum all:',np.sum(aa,axis=1))\n",
    "# 矩阵中最大的元素\n",
    "print('\\nmax of Matric:',np.max(aa,axis=0))\n",
    "# 矩阵中最小的元素\n",
    "print('\\nmin of Matric:',np.min(aa))"
   ]
  },
  {
   "cell_type": "code",
   "execution_count": 7,
   "metadata": {},
   "outputs": [
    {
     "name": "stdout",
     "output_type": "stream",
     "text": [
      "[[1 2 3 4]\n",
      " [5 6 7 8]]\n",
      "index of min: 0\n",
      "index of max: 7\n",
      "index of mean: 4.5\n"
     ]
    }
   ],
   "source": [
    "a = np.arange(1,9).reshape(2,4)\n",
    "print(a)\n",
    "# 最小值的索引\n",
    "print('index of min:',a.argmin())\n",
    "# 最大值的索引\n",
    "print('index of max:',np.argmax(a))\n",
    "# 平均值的索引\n",
    "print('index of mean:',a.mean())"
   ]
  },
  {
   "cell_type": "code",
   "execution_count": 8,
   "metadata": {},
   "outputs": [
    {
     "name": "stdout",
     "output_type": "stream",
     "text": [
      "Transpose of Matric:\n",
      " [[1 5]\n",
      " [2 6]\n",
      " [3 7]\n",
      " [4 8]]\n",
      "Transpose of Matric:\n",
      " [[1 5]\n",
      " [2 6]\n",
      " [3 7]\n",
      " [4 8]]\n",
      "Transpose of Matric:\n",
      " [[1 5]\n",
      " [2 6]\n",
      " [3 7]\n",
      " [4 8]]\n"
     ]
    }
   ],
   "source": [
    "# 矩阵的转置\n",
    "print('Transpose of Matric:\\n',a.transpose())\n",
    "print('Transpose of Matric:\\n',np.transpose(a))\n",
    "print('Transpose of Matric:\\n',a.T)"
   ]
  },
  {
   "cell_type": "code",
   "execution_count": 9,
   "metadata": {},
   "outputs": [
    {
     "name": "stdout",
     "output_type": "stream",
     "text": [
      "clip:\n",
      " [[3 3 3 4]\n",
      " [5 6 6 6]]\n"
     ]
    }
   ],
   "source": [
    "# 切割替换矩阵元素\n",
    "# 指定最小和最大的元素，保留中间元素\n",
    "print('clip:\\n',np.clip(a,3,6))"
   ]
  },
  {
   "cell_type": "markdown",
   "metadata": {},
   "source": [
    "## 索引"
   ]
  },
  {
   "cell_type": "code",
   "execution_count": 17,
   "metadata": {},
   "outputs": [
    {
     "name": "stdout",
     "output_type": "stream",
     "text": [
      "[[1 2 3 4]\n",
      " [5 6 7 8]]\n",
      "first item: 1\n",
      "\n",
      "first row:\n",
      " [1 2 3 4]\n",
      "\n",
      "first column:\n",
      " [1 5]\n",
      "\n",
      "second column:\n",
      " [2 6]\n"
     ]
    }
   ],
   "source": [
    "# 矩阵索引\n",
    "print(a)\n",
    "print('first item:',a[0][0])\n",
    "print('\\nfirst row:\\n',a[0])\n",
    "print('\\nfirst column:\\n',a.T[0])\n",
    "print('\\nsecond column:\\n',a[:,1])"
   ]
  },
  {
   "cell_type": "code",
   "execution_count": 27,
   "metadata": {},
   "outputs": [
    {
     "name": "stdout",
     "output_type": "stream",
     "text": [
      "遍历所有行:\n",
      "[1 2 3 4]\n",
      "[5 6 7 8]\n",
      "\n",
      "遍历所有列:\n",
      "[1 5]\n",
      "[2 6]\n",
      "[3 7]\n",
      "[4 8]\n",
      "\n",
      "遍历所有元素:\n",
      "1 2 3 4 5 6 7 8 "
     ]
    }
   ],
   "source": [
    "# 遍历所有行\n",
    "print('遍历所有行:')\n",
    "for row in a:\n",
    "    print(row)\n",
    "\n",
    "# 遍历所有列\n",
    "print('\\n遍历所有列:')\n",
    "for column in a.T:\n",
    "    print(column)\n",
    "\n",
    "# 遍历所有元素\n",
    "print('\\n遍历所有元素:')\n",
    "for item in a.flat:\n",
    "    print(item,end = \" \")"
   ]
  },
  {
   "cell_type": "code",
   "execution_count": 49,
   "metadata": {},
   "outputs": [
    {
     "name": "stdout",
     "output_type": "stream",
     "text": [
      "A:\n",
      " [[1 1 1]]\n",
      "B:\n",
      " [[2. 2. 2.]]\n",
      "\n",
      "vertical stack:\n",
      " [[1. 1. 1.]\n",
      " [2. 2. 2.]]\n",
      "\n",
      "horizontal stack:\n",
      " [[1. 1. 1. 2. 2. 2.]]\n"
     ]
    }
   ],
   "source": [
    "# 合并矩阵\n",
    "A = np.ones((1,3),dtype=int)\n",
    "B = 2*np.ones((1,3))\n",
    "print('A:\\n',A)\n",
    "print('B:\\n',B)\n",
    "\n",
    "# 上下合并（vertical stack）\n",
    "C = np.vstack((A,B))\n",
    "print('\\nvertical stack:\\n',C)\n",
    "\n",
    "# 左右合并（horizontal stack）\n",
    "D = np.hstack((A,B))\n",
    "print('\\nhorizontal stack:\\n',D)\n"
   ]
  }
 ],
 "metadata": {
  "kernelspec": {
   "display_name": "Python 3.11.0 64-bit",
   "language": "python",
   "name": "python3"
  },
  "language_info": {
   "codemirror_mode": {
    "name": "ipython",
    "version": 3
   },
   "file_extension": ".py",
   "mimetype": "text/x-python",
   "name": "python",
   "nbconvert_exporter": "python",
   "pygments_lexer": "ipython3",
   "version": "3.11.0"
  },
  "orig_nbformat": 4,
  "vscode": {
   "interpreter": {
    "hash": "5365cd7093078b220e6af5428331b2c1792eb22f02103ec7dc775411ce4e3439"
   }
  }
 },
 "nbformat": 4,
 "nbformat_minor": 2
}
